{
 "cells": [
  {
   "cell_type": "markdown",
   "metadata": {},
   "source": [
    "## Principles and Applications of Data Science (Spring 2020)\n",
    "## Term Project\n",
    "\n",
    "### Student ID Number: 105590009 105590023 105590024 105590026\n",
    "### Name: 張文有 芮嘉輝 黃泀翰 黃彥穎"
   ]
  },
  {
   "cell_type": "markdown",
   "metadata": {},
   "source": [
    "### load libraries"
   ]
  },
  {
   "cell_type": "code",
   "execution_count": 114,
   "metadata": {},
   "outputs": [],
   "source": [
    "import time\n",
    "import warnings\n",
    "import random\n",
    "import pandas as pd\n",
    "import datetime\n",
    "import lightgbm as lgb\n",
    "import xgboost as xgb\n",
    "import seaborn as sns\n",
    "import numpy as np\n",
    "import json\n",
    "from matplotlib import pyplot as plt\n",
    "from sklearn.ensemble import RandomForestRegressor\n",
    "from sklearn.model_selection import train_test_split, GridSearchCV\n",
    "from sklearn import metrics\n",
    "from sklearn.svm import SVC\n",
    "from sklearn.manifold import TSNE\n",
    "from sklearn.cluster import KMeans\n",
    "import ast\n",
    "from math import log\n",
    "from sklearn.metrics import confusion_matrix\n",
    "from sklearn.metrics import accuracy_score\n",
    "from sklearn.preprocessing import StandardScaler\n",
    "from sklearn.base import TransformerMixin, BaseEstimator\n",
    "from sklearn.pipeline import Pipeline\n",
    "from sklearn.svm import SVC\n",
    "from sklearn.ensemble import VotingClassifier"
   ]
  },
  {
   "cell_type": "code",
   "execution_count": 2,
   "metadata": {},
   "outputs": [],
   "source": [
    "# ignore warnings\n",
    "warnings.filterwarnings('ignore')"
   ]
  },
  {
   "cell_type": "markdown",
   "metadata": {},
   "source": [
    "### 讀取資料"
   ]
  },
  {
   "cell_type": "code",
   "execution_count": 3,
   "metadata": {},
   "outputs": [
    {
     "data": {
      "text/html": [
       "<div>\n",
       "<style scoped>\n",
       "    .dataframe tbody tr th:only-of-type {\n",
       "        vertical-align: middle;\n",
       "    }\n",
       "\n",
       "    .dataframe tbody tr th {\n",
       "        vertical-align: top;\n",
       "    }\n",
       "\n",
       "    .dataframe thead th {\n",
       "        text-align: right;\n",
       "    }\n",
       "</style>\n",
       "<table border=\"1\" class=\"dataframe\">\n",
       "  <thead>\n",
       "    <tr style=\"text-align: right;\">\n",
       "      <th></th>\n",
       "      <th>comments</th>\n",
       "      <th>description</th>\n",
       "      <th>duration</th>\n",
       "      <th>event</th>\n",
       "      <th>film_date</th>\n",
       "      <th>languages</th>\n",
       "      <th>main_speaker</th>\n",
       "      <th>name</th>\n",
       "      <th>num_speaker</th>\n",
       "      <th>published_date</th>\n",
       "      <th>ratings</th>\n",
       "      <th>related_talks</th>\n",
       "      <th>speaker_occupation</th>\n",
       "      <th>tags</th>\n",
       "      <th>title</th>\n",
       "      <th>url</th>\n",
       "      <th>views</th>\n",
       "    </tr>\n",
       "  </thead>\n",
       "  <tbody>\n",
       "    <tr>\n",
       "      <td>0</td>\n",
       "      <td>4553</td>\n",
       "      <td>Sir Ken Robinson makes an entertaining and pro...</td>\n",
       "      <td>1164</td>\n",
       "      <td>TED2006</td>\n",
       "      <td>1140825600</td>\n",
       "      <td>60</td>\n",
       "      <td>Ken Robinson</td>\n",
       "      <td>Ken Robinson: Do schools kill creativity?</td>\n",
       "      <td>1</td>\n",
       "      <td>1151367060</td>\n",
       "      <td>[{'id': 7, 'name': 'Funny', 'count': 19645}, {...</td>\n",
       "      <td>[{'id': 865, 'hero': 'https://pe.tedcdn.com/im...</td>\n",
       "      <td>Author/educator</td>\n",
       "      <td>['children', 'creativity', 'culture', 'dance',...</td>\n",
       "      <td>Do schools kill creativity?</td>\n",
       "      <td>https://www.ted.com/talks/ken_robinson_says_sc...</td>\n",
       "      <td>47227110</td>\n",
       "    </tr>\n",
       "    <tr>\n",
       "      <td>1</td>\n",
       "      <td>265</td>\n",
       "      <td>With the same humor and humanity he exuded in ...</td>\n",
       "      <td>977</td>\n",
       "      <td>TED2006</td>\n",
       "      <td>1140825600</td>\n",
       "      <td>43</td>\n",
       "      <td>Al Gore</td>\n",
       "      <td>Al Gore: Averting the climate crisis</td>\n",
       "      <td>1</td>\n",
       "      <td>1151367060</td>\n",
       "      <td>[{'id': 7, 'name': 'Funny', 'count': 544}, {'i...</td>\n",
       "      <td>[{'id': 243, 'hero': 'https://pe.tedcdn.com/im...</td>\n",
       "      <td>Climate advocate</td>\n",
       "      <td>['alternative energy', 'cars', 'climate change...</td>\n",
       "      <td>Averting the climate crisis</td>\n",
       "      <td>https://www.ted.com/talks/al_gore_on_averting_...</td>\n",
       "      <td>3200520</td>\n",
       "    </tr>\n",
       "    <tr>\n",
       "      <td>2</td>\n",
       "      <td>124</td>\n",
       "      <td>New York Times columnist David Pogue takes aim...</td>\n",
       "      <td>1286</td>\n",
       "      <td>TED2006</td>\n",
       "      <td>1140739200</td>\n",
       "      <td>26</td>\n",
       "      <td>David Pogue</td>\n",
       "      <td>David Pogue: Simplicity sells</td>\n",
       "      <td>1</td>\n",
       "      <td>1151367060</td>\n",
       "      <td>[{'id': 7, 'name': 'Funny', 'count': 964}, {'i...</td>\n",
       "      <td>[{'id': 1725, 'hero': 'https://pe.tedcdn.com/i...</td>\n",
       "      <td>Technology columnist</td>\n",
       "      <td>['computers', 'entertainment', 'interface desi...</td>\n",
       "      <td>Simplicity sells</td>\n",
       "      <td>https://www.ted.com/talks/david_pogue_says_sim...</td>\n",
       "      <td>1636292</td>\n",
       "    </tr>\n",
       "    <tr>\n",
       "      <td>3</td>\n",
       "      <td>200</td>\n",
       "      <td>In an emotionally charged talk, MacArthur-winn...</td>\n",
       "      <td>1116</td>\n",
       "      <td>TED2006</td>\n",
       "      <td>1140912000</td>\n",
       "      <td>35</td>\n",
       "      <td>Majora Carter</td>\n",
       "      <td>Majora Carter: Greening the ghetto</td>\n",
       "      <td>1</td>\n",
       "      <td>1151367060</td>\n",
       "      <td>[{'id': 3, 'name': 'Courageous', 'count': 760}...</td>\n",
       "      <td>[{'id': 1041, 'hero': 'https://pe.tedcdn.com/i...</td>\n",
       "      <td>Activist for environmental justice</td>\n",
       "      <td>['MacArthur grant', 'activism', 'business', 'c...</td>\n",
       "      <td>Greening the ghetto</td>\n",
       "      <td>https://www.ted.com/talks/majora_carter_s_tale...</td>\n",
       "      <td>1697550</td>\n",
       "    </tr>\n",
       "    <tr>\n",
       "      <td>4</td>\n",
       "      <td>593</td>\n",
       "      <td>You've never seen data presented like this. Wi...</td>\n",
       "      <td>1190</td>\n",
       "      <td>TED2006</td>\n",
       "      <td>1140566400</td>\n",
       "      <td>48</td>\n",
       "      <td>Hans Rosling</td>\n",
       "      <td>Hans Rosling: The best stats you've ever seen</td>\n",
       "      <td>1</td>\n",
       "      <td>1151440680</td>\n",
       "      <td>[{'id': 9, 'name': 'Ingenious', 'count': 3202}...</td>\n",
       "      <td>[{'id': 2056, 'hero': 'https://pe.tedcdn.com/i...</td>\n",
       "      <td>Global health expert; data visionary</td>\n",
       "      <td>['Africa', 'Asia', 'Google', 'demo', 'economic...</td>\n",
       "      <td>The best stats you've ever seen</td>\n",
       "      <td>https://www.ted.com/talks/hans_rosling_shows_t...</td>\n",
       "      <td>12005869</td>\n",
       "    </tr>\n",
       "  </tbody>\n",
       "</table>\n",
       "</div>"
      ],
      "text/plain": [
       "   comments                                        description  duration  \\\n",
       "0      4553  Sir Ken Robinson makes an entertaining and pro...      1164   \n",
       "1       265  With the same humor and humanity he exuded in ...       977   \n",
       "2       124  New York Times columnist David Pogue takes aim...      1286   \n",
       "3       200  In an emotionally charged talk, MacArthur-winn...      1116   \n",
       "4       593  You've never seen data presented like this. Wi...      1190   \n",
       "\n",
       "     event   film_date  languages   main_speaker  \\\n",
       "0  TED2006  1140825600         60   Ken Robinson   \n",
       "1  TED2006  1140825600         43        Al Gore   \n",
       "2  TED2006  1140739200         26    David Pogue   \n",
       "3  TED2006  1140912000         35  Majora Carter   \n",
       "4  TED2006  1140566400         48   Hans Rosling   \n",
       "\n",
       "                                            name  num_speaker  published_date  \\\n",
       "0      Ken Robinson: Do schools kill creativity?            1      1151367060   \n",
       "1           Al Gore: Averting the climate crisis            1      1151367060   \n",
       "2                  David Pogue: Simplicity sells            1      1151367060   \n",
       "3             Majora Carter: Greening the ghetto            1      1151367060   \n",
       "4  Hans Rosling: The best stats you've ever seen            1      1151440680   \n",
       "\n",
       "                                             ratings  \\\n",
       "0  [{'id': 7, 'name': 'Funny', 'count': 19645}, {...   \n",
       "1  [{'id': 7, 'name': 'Funny', 'count': 544}, {'i...   \n",
       "2  [{'id': 7, 'name': 'Funny', 'count': 964}, {'i...   \n",
       "3  [{'id': 3, 'name': 'Courageous', 'count': 760}...   \n",
       "4  [{'id': 9, 'name': 'Ingenious', 'count': 3202}...   \n",
       "\n",
       "                                       related_talks  \\\n",
       "0  [{'id': 865, 'hero': 'https://pe.tedcdn.com/im...   \n",
       "1  [{'id': 243, 'hero': 'https://pe.tedcdn.com/im...   \n",
       "2  [{'id': 1725, 'hero': 'https://pe.tedcdn.com/i...   \n",
       "3  [{'id': 1041, 'hero': 'https://pe.tedcdn.com/i...   \n",
       "4  [{'id': 2056, 'hero': 'https://pe.tedcdn.com/i...   \n",
       "\n",
       "                     speaker_occupation  \\\n",
       "0                       Author/educator   \n",
       "1                      Climate advocate   \n",
       "2                  Technology columnist   \n",
       "3    Activist for environmental justice   \n",
       "4  Global health expert; data visionary   \n",
       "\n",
       "                                                tags  \\\n",
       "0  ['children', 'creativity', 'culture', 'dance',...   \n",
       "1  ['alternative energy', 'cars', 'climate change...   \n",
       "2  ['computers', 'entertainment', 'interface desi...   \n",
       "3  ['MacArthur grant', 'activism', 'business', 'c...   \n",
       "4  ['Africa', 'Asia', 'Google', 'demo', 'economic...   \n",
       "\n",
       "                             title  \\\n",
       "0      Do schools kill creativity?   \n",
       "1      Averting the climate crisis   \n",
       "2                 Simplicity sells   \n",
       "3              Greening the ghetto   \n",
       "4  The best stats you've ever seen   \n",
       "\n",
       "                                                 url     views  \n",
       "0  https://www.ted.com/talks/ken_robinson_says_sc...  47227110  \n",
       "1  https://www.ted.com/talks/al_gore_on_averting_...   3200520  \n",
       "2  https://www.ted.com/talks/david_pogue_says_sim...   1636292  \n",
       "3  https://www.ted.com/talks/majora_carter_s_tale...   1697550  \n",
       "4  https://www.ted.com/talks/hans_rosling_shows_t...  12005869  "
      ]
     },
     "execution_count": 3,
     "metadata": {},
     "output_type": "execute_result"
    }
   ],
   "source": [
    "original_data = pd.read_csv(\"./Data/ted_main.csv\")\n",
    "original_data.head()"
   ]
  },
  {
   "cell_type": "markdown",
   "metadata": {},
   "source": [
    "### Cleaning up the data"
   ]
  },
  {
   "cell_type": "code",
   "execution_count": 5,
   "metadata": {},
   "outputs": [],
   "source": [
    "# 共有6個遺失的演講者職業，使用other填補\n",
    "for index, row in original_data.iterrows():\n",
    "    if pd.isnull(row['speaker_occupation']):\n",
    "        original_data['speaker_occupation'][index] = 'Other'"
   ]
  },
  {
   "cell_type": "markdown",
   "metadata": {},
   "source": [
    "#### related_talks"
   ]
  },
  {
   "cell_type": "code",
   "execution_count": 8,
   "metadata": {},
   "outputs": [],
   "source": [
    "#切割related_talks欄位的資料\n",
    "original_data['related_views'] = 0\n",
    "\n",
    "for index, row in original_data.iterrows():\n",
    "    vids = row['related_talks'].split(',')\n",
    "    counter = 0\n",
    "    total = 0\n",
    "    for views in vids:\n",
    "        if 'viewed_count' in views:\n",
    "            view = views.split(':')\n",
    "            # get rid of brackets and spaces\n",
    "            view[1] = view[1].replace(\"]\", \"\")\n",
    "            view[1] = view[1].replace(\" \", \"\")\n",
    "            view[1] = view[1].replace(\"}\", \"\")\n",
    "            total+=int(view[1])\n",
    "            counter+=1\n",
    "    original_data['related_views'][index] = total/counter"
   ]
  },
  {
   "cell_type": "code",
   "execution_count": 10,
   "metadata": {},
   "outputs": [],
   "source": [
    "#把published_date轉換成月份、星期幾...\n",
    "#根據給定的時間戮，返回一個date物件\n",
    "original_data['published_date'] = original_data['published_date'].apply(lambda x: datetime.date.fromtimestamp(int(x)))\n",
    "original_data['day'] = original_data['published_date'].apply(lambda x: x.weekday())\n",
    "original_data['month'] = original_data['published_date'].apply(lambda x: x.month)\n",
    "original_data['year'] = original_data['published_date'].apply(lambda x: x.year)\n",
    "original_data['film_date'] = original_data['film_date'].apply(lambda x: datetime.date.fromtimestamp(int(x)))\n",
    "original_data['day_film'] = original_data['film_date'].apply(lambda x: x.weekday())\n",
    "original_data['month_film'] = original_data['film_date'].apply(lambda x: x.month)\n",
    "original_data['year_film'] = original_data['film_date'].apply(lambda x: x.year)"
   ]
  },
  {
   "cell_type": "code",
   "execution_count": 11,
   "metadata": {},
   "outputs": [],
   "source": [
    "to_cat = {\"day\":   {0: \"Monday\", 1: \"Tuesday\", 2: \"Wednesday\", 3: \"Thurday\", 4: \"Friday\", 5: \"Saturday\",\n",
    "                    6: \"Sunday\" },\n",
    "          \"month\": {1: \"January\", 2: \"February\", 3: \"March\", 4: \"April\", 5: \"May\", 6: \"June\", 7: \"July\", 8: \"August\", \n",
    "                    9: \"September\", 10: \"October\", 11: \"November\", 12: \"December\"},\n",
    "          \"year\":  {2006: \"2006\", 2007: \"2007\", 2008: \"2008\", 2009: \"2009\", 2010: \"2010\", 2011: \"2011\", 2012: \"2012\", \n",
    "                    2013: \"2013\", 2014: \"2014\", 2015: \"2015\", 2016: \"2016\", 2017: \"2017\"},\n",
    "          \"day_film\":   {0: \"Monday\", 1: \"Tuesday\", 2: \"Wednesday\", 3: \"Thurday\", 4: \"Friday\", 5: \"Saturday\",\n",
    "                    6: \"Sunday\" },\n",
    "          \"month_film\": {1: \"January\", 2: \"February\", 3: \"March\", 4: \"April\", 5: \"May\", 6: \"June\", 7: \"July\", 8: \"August\", \n",
    "                    9: \"September\", 10: \"October\", 11: \"November\", 12: \"December\"},\n",
    "          \"year_film\":  {2006: \"2006\", 2007: \"2007\", 2008: \"2008\", 2009: \"2009\", 2010: \"2010\", 2011: \"2011\", 2012: \"2012\", \n",
    "                    2013: \"2013\", 2014: \"2014\", 2015: \"2015\", 2016: \"2016\", 2017: \"2017\"}}\n",
    "\n",
    "original_data.replace(to_cat, inplace=True)"
   ]
  },
  {
   "cell_type": "code",
   "execution_count": 13,
   "metadata": {
    "scrolled": true
   },
   "outputs": [
    {
     "name": "stdout",
     "output_type": "stream",
     "text": [
      "Number of unique events:  355\n"
     ]
    },
    {
     "data": {
      "text/plain": [
       "array(['TED2006', 'TED2004', 'TED2005', 'TEDGlobal 2005', 'TEDSalon 2006',\n",
       "       'TED2003', 'TED2007', 'TED2002', 'TEDGlobal 2007',\n",
       "       'TEDSalon 2007 Hot Science', 'Skoll World Forum 2007', 'TED2008',\n",
       "       'TED1984', 'TED1990', 'DLD 2007', 'EG 2007', 'TED1998',\n",
       "       'LIFT 2007', 'TED Prize Wish', 'TEDSalon 2009 Compassion',\n",
       "       'Chautauqua Institution', 'Serious Play 2008', 'Taste3 2008',\n",
       "       'TED2001', 'TED in the Field', 'TED2009', 'EG 2008',\n",
       "       'Elizabeth G. Anderson School', 'TEDxUSC', 'TED@State',\n",
       "       'TEDGlobal 2009', 'TEDxKC', 'TEDIndia 2009',\n",
       "       'TEDSalon London 2009', 'Justice with Michael Sandel',\n",
       "       'Business Innovation Factory', 'TEDxTC',\n",
       "       'Carnegie Mellon University', 'Stanford University',\n",
       "       'AORN Congress', 'University of California', 'TEDMED 2009',\n",
       "       'Royal Institution', 'Bowery Poetry Club', 'TEDxSMU',\n",
       "       'Harvard University', 'TEDxBoston 2009', 'TEDxBerlin', 'TED2010',\n",
       "       'TEDxAmsterdam', 'World Science Festival', 'BBC TV',\n",
       "       'Arbejdsglaede Live', 'Web 2.0 Expo 2008', 'TEDxNASA',\n",
       "       'Michael Howard Studios', 'DICE Summit 2010',\n",
       "       \"Eric Whitacre's Virtual Choir\", 'Mission Blue Voyage',\n",
       "       'TEDxPuget Sound ', 'TEDxNYED', 'Toronto Youth Corps',\n",
       "       'TEDSalon London 2010', 'TEDxEdmonton', 'TED@Cannes',\n",
       "       'TEDxAtlanta', 'TEDxEast', 'TEDxOilSpill', 'TEDGlobal 2010',\n",
       "       'Princeton University', 'New York State Senate', 'TEDxBoston 2010',\n",
       "       'RSA Animate', 'TEDxYYC', 'Gel Conference', 'The Do Lectures',\n",
       "       'TEDxChange', 'TED Senior Fellows at TEDGlobal 2010',\n",
       "       'Fort Worth City Council', 'TEDxTelAviv 2010', 'TEDxDU 2010',\n",
       "       'TEDxMidwest', 'TEDxHouston', 'TEDxNextGenerationAsheville',\n",
       "       'TEDxRotterdam 2010', 'TEDWomen 2010', 'TEDxMidAtlantic',\n",
       "       'TEDxSydney', 'TEDSalon NY2011', 'TEDxRainier', 'TEDxToronto 2010',\n",
       "       'TEDxPSU', 'TEDMED 2010', 'TEDxGreatPacificGarbagePatch',\n",
       "       'TEDxGöteborg 2010', 'TEDxToronto 2011', 'TED@MotorCity',\n",
       "       'TEDxPennQuarter', 'TEDPrize@UN', 'TED2011', 'TEDxPeachtree',\n",
       "       'TEDxDubai', 'TEDActive 2011', 'INK Conference', 'TEDxCaltech',\n",
       "       'TEDxWarwick', 'Handheld Learning', 'TEDxSiliconValley',\n",
       "       'TEDxNorthwesternU', 'TEDxMaastricht', 'TEDxBG',\n",
       "       'Full Spectrum Auditions', 'TEDSalon London Spring 2011',\n",
       "       'TEDxSanMigueldeAllende', 'TEDGlobal 2011', 'TEDxBoston 2011',\n",
       "       'TEDxParis 2010', 'NextGen:Charity', 'TEDxUIUC',\n",
       "       'TEDxThessaloniki', \"TEDxO'Porto\", 'TEDxBloomington',\n",
       "       'TEDxSantaCruz', 'TEDxWaterloo', 'TEDxManhattanBeach',\n",
       "       'TEDxKids@Brussels', 'TEDxTeen', 'TEDxBoulder 2011',\n",
       "       'TEDxManhattan', 'TEDxOrangeCoast', 'TEDxBrussels', 'TEDMED 2011',\n",
       "       'TEDxKrakow', 'TEDxCMU', 'TEDxVienna', 'TEDxDU 2011', 'TEDxDirigo',\n",
       "       'TEDxCanberra', 'TEDxRC2', 'TEDxWomen 2011', 'TEDxZurich 2011',\n",
       "       'TEDSalon NY2012', 'TEDxMIA', 'TEDxNASA@SiliconValley',\n",
       "       'TEDxYouth@Manchester', 'TED1994', 'TEDxVancouver',\n",
       "       'TEDSalon London Fall 2011', 'TEDxIslay', 'TEDxAmericanRiviera',\n",
       "       'TEDxDublin', 'TEDxVictoria', 'TEDxPhoenix', 'TEDxAsheville',\n",
       "       'TEDYouth 2011', 'TED2012', 'TEDxUW', 'TED-Ed', 'TEDxCambridge',\n",
       "       'TEDxPortofSpain', 'TEDxNewy', 'TEDxPittsburgh', 'TEDxObserver',\n",
       "       'TEDxConcordiaUPortland', 'TEDxAthens', 'TED@SXSWi', 'TEDxAustin',\n",
       "       'TEDxMonterey', 'TEDxSummit', 'TEDxBerkeley',\n",
       "       'TEDxHogeschoolUtrecht', 'TEDxSanJoseCA', 'TEDxSussexUniversity',\n",
       "       'TEDMED 2012', 'TEDSalon London Spring 2012', 'TEDxGrandRapids',\n",
       "       'TEDxABQ', 'TEDxSanDiego', 'TEDxLondonBusinessSchool',\n",
       "       'TEDGlobal 2012', 'TEDxStanford', 'TEDxImperialCollege',\n",
       "       'TEDxBoston 2012', 'TEDxUCL', 'TEDxExeter', 'TEDxMaui',\n",
       "       'TEDxHousesOfParliament', 'TED@London', 'TEDxWinnipeg',\n",
       "       'TED@Bangalore', 'TED@New York', 'TEDxCHUV', 'TEDxSF',\n",
       "       'TEDxEQChCh', 'TEDxHelvetia', 'TED@Nairobi', 'TEDxGeorgetown',\n",
       "       'TED@Johannesburg', 'TEDxZurich 2012', 'TEDSalon London Fall 2012',\n",
       "       'TEDxWitsUniversity', 'TEDxJaffa 2012', 'TEDxWomen 2012',\n",
       "       'TEDxHampshireCollege', 'TEDxGoodenoughCollege', 'TEDxGlasgow',\n",
       "       'TEDxBeaconStreet', 'SoulPancake', 'TEDxDelft', 'TEDSalon NY2013',\n",
       "       'TEDxSeoul', 'TEDxConcorde', 'TED2013', 'TEDYouth 2012',\n",
       "       'TEDxSeattleU', 'TEDxRiodelaPlata', 'TED@Intel',\n",
       "       'TED Talks Education', 'TEDxMiamiUniversity', 'TEDxFiDiWomen',\n",
       "       'TEDxDeExtinction', 'TEDMED 2013', 'TEDGlobal 2013', 'TEDxCERN',\n",
       "       'TEDxNijmegen', 'TEDxColbyCollege', 'TEDxDanubia', 'TEDxTokyo',\n",
       "       'TEDxBoston', 'TEDxKids@Ambleside', 'TEDCity2.0', 'TEDxUdeM',\n",
       "       'TED@BCG Singapore', 'TED@NYC', 'TEDWomen 2013', 'TEDYouth 2013',\n",
       "       'TEDxBratislava', 'TED@BCG San Francisco', 'TEDxMet', 'TEDxMarin',\n",
       "       'TEDxBeirut', 'TED@State Street Boston', 'TEDxCaFoscariU',\n",
       "       'TEDxJaffa 2013', 'TEDxZurich 2013', 'TED Fellows Retreat 2013',\n",
       "       'TEDxParis 2012', 'TEDxBoulder', 'TED2014', 'TEDxMidAtlantic 2013',\n",
       "       'TEDxPerth', 'TEDxUMKC', 'TEDxLeuvenSalon', 'TEDActive 2014',\n",
       "       'TEDSalon NY2014', 'TEDxUofM', 'TEDxColumbus',\n",
       "       'TEDSalon Berlin 2014', 'TEDxKyoto', 'TEDxClaremontColleges',\n",
       "       'TEDxMonroeCorrectionalComplex', 'TEDxBrighton',\n",
       "       'TEDxSonomaCounty', 'TEDxAmazonia', 'TED@Unilever', 'TEDMED 2014',\n",
       "       'TEDGlobal 2014', 'TED@IBM', 'TEDxNewYork', 'TED@BCG Berlin',\n",
       "       'TEDxArendal', 'TEDxNorrkoping', 'TEDYouth 2014',\n",
       "       'TED@State Street London', 'TEDxPlaceDesNations',\n",
       "       'TEDxBinghamtonUniversity', 'TEDxLinnaeusUniversity', 'TEDxSBU',\n",
       "       'TED2015', 'TEDxMuncyStatePrison', 'TEDxSouthBank',\n",
       "       'TEDWomen 2015', 'TEDSalon NY2015', 'TEDGlobalLondon',\n",
       "       'TEDxIndianapolis', 'TED@BCG London', 'TEDxChapmanU',\n",
       "       'TEDxGoldenGatePark 2012', 'TEDxUF', 'TEDxBend',\n",
       "       'TEDGlobal>London', 'TEDxPenn', 'TEDxProvidence',\n",
       "       'TED Fellows Retreat 2015', 'TED Fellows 2015', 'TEDxOslo',\n",
       "       'TEDxCannes', 'Mission Blue II', 'TED@UPS', 'TEDxToulouse',\n",
       "       'TEDYouth 2015', 'TEDxGroningen', 'TEDGlobal>Geneva',\n",
       "       'TEDxYouth@Sydney', 'TEDxAmoskeagMillyard', 'TEDMED 2015',\n",
       "       'TEDxUM', 'TEDxCreativeCoast', 'TED2016', 'TED@StateStreet Boston',\n",
       "       'TED Talks Live', 'Global Witness HQ', 'TED Studio',\n",
       "       'TEDActive 2015', 'TEDxGatewayWomen', 'TEDxEastEnd',\n",
       "       'TED@BCG Paris', 'TEDSummit', 'TEDxDesMoines',\n",
       "       'TEDxColoradoSprings', 'TEDNYC', 'TEDxUniversityofNevada',\n",
       "       'TEDxMontreal', 'TEDxIndianaUniversity', 'TEDWomen 2016',\n",
       "       'TED Residency', 'TEDxToronto', 'TEDxMtHood', 'TEDxGhent',\n",
       "       'TEDxSaltLakeCity', 'TEDxOmaha', 'TEDxSFU', 'TEDMED 2016',\n",
       "       'TEDxPortland', 'TEDxManchester', 'TEDxMileHigh', 'TED Dialogues',\n",
       "       'TEDxNatick', 'TEDxFrankfurt', 'TED-Ed Weekend',\n",
       "       'TEDxColumbusWomen', 'TEDxEuston', 'TEDxSanQuentin',\n",
       "       'TEDLagos Ideas Search', 'TEDxVirginiaTech', 'TED2017',\n",
       "       'TEDxSkoll', 'TEDNairobi Ideas Search', 'TEDxFulbrightDublin',\n",
       "       'TEDxOrcasIsland', 'TEDxPennsylvaniaAvenue', 'TEDxCrenshaw',\n",
       "       'TEDxHamburg', 'TEDGlobal 2017', 'TEDxZurich'], dtype=object)"
      ]
     },
     "execution_count": 13,
     "metadata": {},
     "output_type": "execute_result"
    }
   ],
   "source": [
    "#整理出唯一的名稱，統整出活動的名稱\n",
    "print('Number of unique events: ',original_data['event'].unique().shape[0])\n",
    "original_data['event'].unique()"
   ]
  },
  {
   "cell_type": "code",
   "execution_count": 14,
   "metadata": {},
   "outputs": [],
   "source": [
    "# initialise all values as 'Other' to assign this category\n",
    "# to all entries that don't fit into the chosen categories\n",
    "#由於活動名稱相似，我們將相似的名稱統整在一起\n",
    "original_data['event_category'] = 'Other'\n",
    "\n",
    "for i in range(len(original_data)):\n",
    "    if original_data['event'][i][0:5]=='TED20':\n",
    "        original_data['event_category'][i] = 'TED2000s'\n",
    "    elif original_data['event'][i][0:5]=='TED19':\n",
    "        original_data['event_category'][i] = 'TED1900s'\n",
    "    elif original_data['event'][i][0:4]=='TEDx':\n",
    "        original_data['event_category'][i] = \"TEDx\"\n",
    "    elif original_data['event'][i][0:7]=='TED@BCG':\n",
    "        original_data['event_category'][i] = 'TED@BCG'\n",
    "    elif original_data['event'][i][0:4]=='TED@':\n",
    "        original_data['event_category'][i] = \"TED@\"\n",
    "    elif original_data['event'][i][0:8]=='TEDSalon':\n",
    "        original_data['event_category'][i] = \"TEDSalon\"\n",
    "    elif original_data['event'][i][0:9]=='TEDGlobal':\n",
    "        original_data['event_category'][i] = 'TEDGlobal'\n",
    "    elif original_data['event'][i][0:8]=='TEDWomen':\n",
    "        original_data['event_category'][i] = 'TEDWomen'\n",
    "    elif original_data['event'][i][0:6]=='TEDMED':\n",
    "        original_data['event_category'][i] = 'TEDMED'\n",
    "    elif original_data['event'][i][0:3]=='TED':\n",
    "        original_data['event_category'][i] = 'TEDOther'"
   ]
  },
  {
   "cell_type": "code",
   "execution_count": 15,
   "metadata": {},
   "outputs": [
    {
     "data": {
      "text/plain": [
       "array(['TED2000s', 'TEDGlobal', 'TEDSalon', 'Other', 'TED1900s',\n",
       "       'TEDOther', 'TEDx', 'TED@', 'TEDMED', 'TEDWomen', 'TED@BCG'],\n",
       "      dtype=object)"
      ]
     },
     "execution_count": 15,
     "metadata": {},
     "output_type": "execute_result"
    }
   ],
   "source": [
    "original_data['event_category'].unique()"
   ]
  },
  {
   "cell_type": "markdown",
   "metadata": {},
   "source": [
    "#### tags"
   ]
  },
  {
   "cell_type": "code",
   "execution_count": 16,
   "metadata": {},
   "outputs": [],
   "source": [
    "destring = []\n",
    "for number in range(len(original_data)):\n",
    "    #Remove string\n",
    "    destring.append(ast.literal_eval(original_data['tags'][number]))\n",
    "original_data['Tags'] = pd.Series(destring)"
   ]
  },
  {
   "cell_type": "code",
   "execution_count": 17,
   "metadata": {},
   "outputs": [],
   "source": [
    "from gensim.models import KeyedVectors\n",
    "model = KeyedVectors.load_word2vec_format(\"./GoogleNews-vectors-negative300.bin\", binary=True)"
   ]
  },
  {
   "cell_type": "code",
   "execution_count": 18,
   "metadata": {},
   "outputs": [],
   "source": [
    "#找出tags的所有標籤\n",
    "listed = [item for sublist in destring for item in sublist]\n",
    "listed = pd.Series(listed)\n",
    "lists = list(listed.unique())\n",
    "lists2 = [ x for x in lists if \" \" not in x ]\n",
    "lists2 = [ x for x in lists2 if \"-\" not in x ]"
   ]
  },
  {
   "cell_type": "code",
   "execution_count": 19,
   "metadata": {},
   "outputs": [],
   "source": [
    "lists2.remove('archaeology')\n",
    "lists2.remove('TEDYouth')\n",
    "lists2.remove('deextinction')\n",
    "lists2.remove('blockchain')\n",
    "lists2.remove('TEDNYC')"
   ]
  },
  {
   "cell_type": "code",
   "execution_count": 165,
   "metadata": {},
   "outputs": [],
   "source": [
    "from sklearn.manifold import TSNE\n",
    "from sklearn.cluster import KMeans\n",
    "\n",
    "labels = []\n",
    "tokens = []\n",
    "\n",
    "for word in lists2:\n",
    "    tokens.append(model[word])\n",
    "    labels.append(word)\n",
    "\n",
    "tsne_model = TSNE(perplexity=50, n_components=2, init='pca', n_iter=105000, random_state=17,learning_rate=5500)\n",
    "new_values = tsne_model.fit_transform(tokens)\n",
    "\n",
    "kmeans = KMeans(n_clusters=15,n_init=200)\n",
    "kmeans.fit(tokens)\n",
    "clusters = kmeans.predict(tokens)\n",
    "\n",
    "df_tsne = pd.DataFrame(new_values, columns=['1st_Comp', '2nd_Comp'])\n",
    "df_tsne['Cluster'] = clusters"
   ]
  },
  {
   "cell_type": "code",
   "execution_count": 40,
   "metadata": {},
   "outputs": [],
   "source": [
    "convert = {labels[word]: clusters[word] for word in range(len(labels))}"
   ]
  },
  {
   "cell_type": "code",
   "execution_count": 41,
   "metadata": {},
   "outputs": [],
   "source": [
    "comp = pd.DataFrame(labels)\n",
    "comp['cluster'] = clusters"
   ]
  },
  {
   "cell_type": "code",
   "execution_count": 42,
   "metadata": {},
   "outputs": [],
   "source": [
    "comp_conver = {0:'Organizing/Perceiving Information',1:'animals/organisms',2:'exploration',3:'Scientific Fields',\n",
    "              4:'media/entertainment',5:'arts/creativity',6:'Epidemics',7:'Humanity/Progress',8:'Vices/Prejudices',\n",
    "              9:'robots/prosthetics',10:'music',11:'philanthropy/religion',12:'Middle East',13:'Global issues',\n",
    "              14:'Outer-Space',15:'NA'}"
   ]
  },
  {
   "cell_type": "code",
   "execution_count": 43,
   "metadata": {},
   "outputs": [],
   "source": [
    "comp['group'] = 'None'\n",
    "for ii in range(len(comp)):\n",
    "    comp['group'][ii] = comp_conver[comp['cluster'][ii]]\n",
    "    \n",
    "unique = comp['group'].unique()"
   ]
  },
  {
   "cell_type": "code",
   "execution_count": 44,
   "metadata": {},
   "outputs": [],
   "source": [
    "for group in unique:\n",
    "    original_data[group+'_tag'] = 0\n",
    "    for item in range(len(original_data['Tags'])):\n",
    "        for i in original_data['Tags'][item]:\n",
    "            try:\n",
    "                clust = convert[i]\n",
    "            except KeyError:\n",
    "                clust = 15\n",
    "            grouping = comp_conver[clust]\n",
    "            if grouping == group:\n",
    "                original_data[group+'_tag'][item] = 1"
   ]
  },
  {
   "cell_type": "code",
   "execution_count": 45,
   "metadata": {},
   "outputs": [
    {
     "data": {
      "text/html": [
       "<div>\n",
       "<style scoped>\n",
       "    .dataframe tbody tr th:only-of-type {\n",
       "        vertical-align: middle;\n",
       "    }\n",
       "\n",
       "    .dataframe tbody tr th {\n",
       "        vertical-align: top;\n",
       "    }\n",
       "\n",
       "    .dataframe thead th {\n",
       "        text-align: right;\n",
       "    }\n",
       "</style>\n",
       "<table border=\"1\" class=\"dataframe\">\n",
       "  <thead>\n",
       "    <tr style=\"text-align: right;\">\n",
       "      <th></th>\n",
       "      <th>animals/organisms_tag</th>\n",
       "      <th>Scientific Fields_tag</th>\n",
       "      <th>philanthropy/religion_tag</th>\n",
       "      <th>exploration_tag</th>\n",
       "      <th>robots/prosthetics_tag</th>\n",
       "      <th>Epidemics_tag</th>\n",
       "      <th>Global issues_tag</th>\n",
       "      <th>Humanity/Progress_tag</th>\n",
       "      <th>music_tag</th>\n",
       "      <th>media/entertainment_tag</th>\n",
       "      <th>Vices/Prejudices_tag</th>\n",
       "      <th>arts/creativity_tag</th>\n",
       "      <th>Middle East_tag</th>\n",
       "      <th>Outer-Space_tag</th>\n",
       "      <th>Organizing/Perceiving Information_tag</th>\n",
       "    </tr>\n",
       "  </thead>\n",
       "  <tbody>\n",
       "    <tr>\n",
       "      <td>0</td>\n",
       "      <td>1</td>\n",
       "      <td>1</td>\n",
       "      <td>1</td>\n",
       "      <td>1</td>\n",
       "      <td>0</td>\n",
       "      <td>0</td>\n",
       "      <td>0</td>\n",
       "      <td>0</td>\n",
       "      <td>0</td>\n",
       "      <td>0</td>\n",
       "      <td>0</td>\n",
       "      <td>0</td>\n",
       "      <td>0</td>\n",
       "      <td>0</td>\n",
       "      <td>0</td>\n",
       "    </tr>\n",
       "    <tr>\n",
       "      <td>1</td>\n",
       "      <td>0</td>\n",
       "      <td>1</td>\n",
       "      <td>1</td>\n",
       "      <td>0</td>\n",
       "      <td>1</td>\n",
       "      <td>1</td>\n",
       "      <td>0</td>\n",
       "      <td>0</td>\n",
       "      <td>0</td>\n",
       "      <td>0</td>\n",
       "      <td>0</td>\n",
       "      <td>0</td>\n",
       "      <td>0</td>\n",
       "      <td>0</td>\n",
       "      <td>0</td>\n",
       "    </tr>\n",
       "    <tr>\n",
       "      <td>2</td>\n",
       "      <td>0</td>\n",
       "      <td>1</td>\n",
       "      <td>0</td>\n",
       "      <td>1</td>\n",
       "      <td>1</td>\n",
       "      <td>0</td>\n",
       "      <td>1</td>\n",
       "      <td>0</td>\n",
       "      <td>0</td>\n",
       "      <td>0</td>\n",
       "      <td>0</td>\n",
       "      <td>0</td>\n",
       "      <td>0</td>\n",
       "      <td>0</td>\n",
       "      <td>0</td>\n",
       "    </tr>\n",
       "    <tr>\n",
       "      <td>3</td>\n",
       "      <td>1</td>\n",
       "      <td>1</td>\n",
       "      <td>1</td>\n",
       "      <td>0</td>\n",
       "      <td>1</td>\n",
       "      <td>0</td>\n",
       "      <td>0</td>\n",
       "      <td>0</td>\n",
       "      <td>0</td>\n",
       "      <td>0</td>\n",
       "      <td>0</td>\n",
       "      <td>0</td>\n",
       "      <td>0</td>\n",
       "      <td>0</td>\n",
       "      <td>0</td>\n",
       "    </tr>\n",
       "    <tr>\n",
       "      <td>4</td>\n",
       "      <td>1</td>\n",
       "      <td>1</td>\n",
       "      <td>1</td>\n",
       "      <td>0</td>\n",
       "      <td>1</td>\n",
       "      <td>0</td>\n",
       "      <td>0</td>\n",
       "      <td>1</td>\n",
       "      <td>0</td>\n",
       "      <td>0</td>\n",
       "      <td>0</td>\n",
       "      <td>0</td>\n",
       "      <td>0</td>\n",
       "      <td>0</td>\n",
       "      <td>0</td>\n",
       "    </tr>\n",
       "  </tbody>\n",
       "</table>\n",
       "</div>"
      ],
      "text/plain": [
       "   animals/organisms_tag  Scientific Fields_tag  philanthropy/religion_tag  \\\n",
       "0                      1                      1                          1   \n",
       "1                      0                      1                          1   \n",
       "2                      0                      1                          0   \n",
       "3                      1                      1                          1   \n",
       "4                      1                      1                          1   \n",
       "\n",
       "   exploration_tag  robots/prosthetics_tag  Epidemics_tag  Global issues_tag  \\\n",
       "0                1                       0              0                  0   \n",
       "1                0                       1              1                  0   \n",
       "2                1                       1              0                  1   \n",
       "3                0                       1              0                  0   \n",
       "4                0                       1              0                  0   \n",
       "\n",
       "   Humanity/Progress_tag  music_tag  media/entertainment_tag  \\\n",
       "0                      0          0                        0   \n",
       "1                      0          0                        0   \n",
       "2                      0          0                        0   \n",
       "3                      0          0                        0   \n",
       "4                      1          0                        0   \n",
       "\n",
       "   Vices/Prejudices_tag  arts/creativity_tag  Middle East_tag  \\\n",
       "0                     0                    0                0   \n",
       "1                     0                    0                0   \n",
       "2                     0                    0                0   \n",
       "3                     0                    0                0   \n",
       "4                     0                    0                0   \n",
       "\n",
       "   Outer-Space_tag  Organizing/Perceiving Information_tag  \n",
       "0                0                                      0  \n",
       "1                0                                      0  \n",
       "2                0                                      0  \n",
       "3                0                                      0  \n",
       "4                0                                      0  "
      ]
     },
     "execution_count": 45,
     "metadata": {},
     "output_type": "execute_result"
    }
   ],
   "source": [
    "original_data.filter(like='_tag', axis=1).head()"
   ]
  },
  {
   "cell_type": "markdown",
   "metadata": {},
   "source": [
    "### Visualization"
   ]
  },
  {
   "cell_type": "code",
   "execution_count": 28,
   "metadata": {
    "scrolled": true
   },
   "outputs": [
    {
     "data": {
      "text/plain": [
       "<matplotlib.axes._subplots.AxesSubplot at 0x1be50a57888>"
      ]
     },
     "execution_count": 28,
     "metadata": {},
     "output_type": "execute_result"
    },
    {
     "data": {
      "image/png": "[encoded data removed]",
      "text/plain": [
       "<Figure size 864x288 with 1 Axes>"
      ]
     },
     "metadata": {
      "needs_background": "light"
     },
     "output_type": "display_data"
    }
   ],
   "source": [
    "#計算哪個月份最多演講\n",
    "month_cnt_df = pd.DataFrame(original_data['month_film'].value_counts()).reset_index()\n",
    "month_cnt_df.columns = ['Month', 'Number of tedtalks']\n",
    "\n",
    "fig = plt.figure(figsize=(12,4))\n",
    "sns.barplot(x = 'Month', y = 'Number of tedtalks', data = month_cnt_df)"
   ]
  },
  {
   "cell_type": "code",
   "execution_count": 38,
   "metadata": {},
   "outputs": [
    {
     "data": {
      "text/plain": [
       "Index(['comments', 'description', 'duration', 'event', 'film_date',\n",
       "       'languages', 'main_speaker', 'name', 'num_speaker', 'published_date',\n",
       "       'ratings', 'related_talks', 'speaker_occupation', 'tags', 'title',\n",
       "       'url', 'views', 'related_views', 'day', 'month', 'year', 'day_film',\n",
       "       'month_film', 'year_film', 'event_category', 'Tags'],\n",
       "      dtype='object')"
      ]
     },
     "execution_count": 38,
     "metadata": {},
     "output_type": "execute_result"
    }
   ],
   "source": [
    "original_data.columns"
   ]
  },
  {
   "cell_type": "code",
   "execution_count": 56,
   "metadata": {},
   "outputs": [],
   "source": [
    "vis = original_data.filter(like='_tag', axis=1)\n",
    "vis['views'] =original_data['views']\n",
    "# vis.head()"
   ]
  },
  {
   "cell_type": "code",
   "execution_count": 47,
   "metadata": {},
   "outputs": [
    {
     "data": {
      "image/png": "[encoded data removed]",
      "text/plain": [
       "<Figure size 1512x1008 with 15 Axes>"
      ]
     },
     "metadata": {
      "needs_background": "light"
     },
     "output_type": "display_data"
    }
   ],
   "source": [
    "#觀察tag與views的關係\n",
    "fig = plt.figure(figsize=(21,14))\n",
    "#Create a barplot for each tag showing the mean number of views\n",
    "for i in np.arange(15):\n",
    "    ax = fig.add_subplot(3,5,i+1)\n",
    "    sns.barplot(x=vis.iloc[:,i], y=vis['views'])\n",
    "    plt.ylabel('',)\n",
    "\n",
    "plt.tight_layout(rect=[0, 0.05, 1, 0.95])\n",
    "plt.suptitle(\"Tag Evaluation\", fontsize = 18)\n",
    "plt.show()"
   ]
  },
  {
   "cell_type": "code",
   "execution_count": 52,
   "metadata": {},
   "outputs": [],
   "source": [
    "#觀察場次類別與views的關係\n",
    "event_unique = original_data['event_category'].unique()\n",
    "for group in event_unique:\n",
    "    original_data[group+'_unique'] = 0\n",
    "    for item in range(len(original_data['event_category'])):\n",
    "        if group == original_data['event_category'][item] :\n",
    "            original_data[group+'_unique'][item] = 1"
   ]
  },
  {
   "cell_type": "code",
   "execution_count": 54,
   "metadata": {},
   "outputs": [],
   "source": [
    "category = original_data.filter(like='_unique', axis=1)\n",
    "category['views'] =original_data['views']\n",
    "# category.head()"
   ]
  },
  {
   "cell_type": "code",
   "execution_count": 55,
   "metadata": {},
   "outputs": [
    {
     "data": {
      "image/png": "[encoded data removed]",
      "text/plain": [
       "<Figure size 1512x1008 with 11 Axes>"
      ]
     },
     "metadata": {
      "needs_background": "light"
     },
     "output_type": "display_data"
    }
   ],
   "source": [
    "fig = plt.figure(figsize=(21,14))\n",
    "#fig, ax = plt.subplots(nrows=3, ncols=3, sharex=True, sharey=True, figsize=(6, 6))\n",
    "#Create a barplot for each tag showing the mean number of views\n",
    "for i in np.arange(11):\n",
    "    ax = fig.add_subplot(2,6,i+1)\n",
    "    sns.barplot(x=category.iloc[:,i], y=category['views'])\n",
    "    plt.ylabel('',)\n",
    "\n",
    "plt.tight_layout(rect=[0, 0.05, 1, 0.95])\n",
    "plt.suptitle(\"event Evaluation\", fontsize = 18)\n",
    "plt.show()"
   ]
  },
  {
   "cell_type": "code",
   "execution_count": 57,
   "metadata": {},
   "outputs": [],
   "source": [
    "day_unique = original_data['day'].unique()\n",
    "for group in day_unique:\n",
    "    original_data[group+'_unique'] = 0\n",
    "    for item in range(len(original_data['day'])):\n",
    "        if group == original_data['day'][item]:\n",
    "            original_data[group+'_unique'][item] = 1"
   ]
  },
  {
   "cell_type": "code",
   "execution_count": 59,
   "metadata": {},
   "outputs": [],
   "source": [
    "day = original_data.filter(like='day_unique', axis=1)\n",
    "day['views'] =original_data['views']\n",
    "# day.head()"
   ]
  },
  {
   "cell_type": "code",
   "execution_count": 60,
   "metadata": {},
   "outputs": [
    {
     "data": {
      "image/png": "[encoded data removed]",
      "text/plain": [
       "<Figure size 1296x720 with 7 Axes>"
      ]
     },
     "metadata": {
      "needs_background": "light"
     },
     "output_type": "display_data"
    }
   ],
   "source": [
    "fig = plt.figure(figsize=(18,10))\n",
    "#Create a barplot for each tag showing the mean number of views\n",
    "for i in np.arange(7):\n",
    "    ax = fig.add_subplot(2,4,i+1)\n",
    "    sns.barplot(x=day.iloc[:,i], y=day['views'])\n",
    "    plt.ylabel('',)\n",
    "\n",
    "plt.tight_layout(rect=[0, 0.05, 1, 0.95])\n",
    "plt.suptitle(\"day Evaluation\", fontsize = 18)\n",
    "plt.show()"
   ]
  },
  {
   "cell_type": "markdown",
   "metadata": {},
   "source": [
    "### Final touches on the dataset"
   ]
  },
  {
   "cell_type": "code",
   "execution_count": 65,
   "metadata": {},
   "outputs": [],
   "source": [
    "views = original_data['views']\n",
    "comments = original_data['comments']\n",
    "temp_data = original_data.drop(['comments', 'description', 'event','published_date','film_date', 'main_speaker', 'name', 'ratings', \n",
    "           'related_talks', 'tags', 'title', 'url','year_film','day_film', 'views', 'speaker_occupation', 'Tags',], 1)"
   ]
  },
  {
   "cell_type": "code",
   "execution_count": 82,
   "metadata": {
    "scrolled": true
   },
   "outputs": [],
   "source": [
    "data = pd.get_dummies(temp_data)\n",
    "# data.columns"
   ]
  },
  {
   "cell_type": "markdown",
   "metadata": {},
   "source": [
    "#### 挑選特徵"
   ]
  },
  {
   "cell_type": "code",
   "execution_count": 83,
   "metadata": {
    "scrolled": false
   },
   "outputs": [],
   "source": [
    "selected_features = [['languages','related_views','duration','published_date'], ['Vices/Prejudices_tag', 'Outer-Space_tag', \n",
    "                     'exploration_tag', 'Scientific Fields_tag', 'Organizing/Perceiving Information_tag', \n",
    "                     'media/entertainment_tag', 'robots/prosthetics_tag', 'Global issues_tag', 'Humanity/Progress_tag', \n",
    "                     'music_tag', 'animals/organisms_tag', 'Epidemics_tag', 'Middle East_tag', 'arts/creativity_tag', \n",
    "                     'philanthropy/religion_tag', 'day_Monday', 'day_Tuesday', 'day_Saturday', 'day_Thurday', 'day_Friday'\n",
    "                     ,'day_Wednesday' ,'day_Sunday']]"
   ]
  },
  {
   "cell_type": "markdown",
   "metadata": {},
   "source": [
    "### 將資料標準化"
   ]
  },
  {
   "cell_type": "code",
   "execution_count": 86,
   "metadata": {},
   "outputs": [],
   "source": [
    "sc = StandardScaler()\n",
    "sc.fit(data[selected_features[0]])\n",
    "final_data = sc.transform(data[selected_features[0]])"
   ]
  },
  {
   "cell_type": "code",
   "execution_count": 96,
   "metadata": {},
   "outputs": [],
   "source": [
    "final_data = np.hstack((final_data, data[selected_features[1]]))"
   ]
  },
  {
   "cell_type": "code",
   "execution_count": 104,
   "metadata": {},
   "outputs": [],
   "source": [
    "# 將views取log\n",
    "log_views = views.apply(lambda x: log(x))"
   ]
  },
  {
   "cell_type": "code",
   "execution_count": 105,
   "metadata": {},
   "outputs": [
    {
     "data": {
      "text/plain": [
       "<matplotlib.axes._subplots.AxesSubplot at 0x1be72ff5f48>"
      ]
     },
     "execution_count": 105,
     "metadata": {},
     "output_type": "execute_result"
    },
    {
     "data": {
      "image/png": "[encoded data removed]",
      "text/plain": [
       "<Figure size 1008x288 with 2 Axes>"
      ]
     },
     "metadata": {},
     "output_type": "display_data"
    }
   ],
   "source": [
    "plt.figure(figsize=(14, 4))\n",
    "plt.subplot(1, 2, 1)\n",
    "plt.title('Original views')\n",
    "sns.distplot(views)\n",
    "\n",
    "plt.subplot(1, 2, 2)\n",
    "sns.set_style('dark')\n",
    "plt.title('log views')\n",
    "sns.distplot(log_views)"
   ]
  },
  {
   "cell_type": "code",
   "execution_count": 106,
   "metadata": {},
   "outputs": [],
   "source": [
    "# 將演講依照觀看次數分群\n",
    "def groupView(view, mean, std):\n",
    "    if view >= mean + 3*std:\n",
    "        return 1\n",
    "    elif view >= mean + 2 *std:\n",
    "        return 2\n",
    "    elif view >= mean + std:\n",
    "        return 3\n",
    "    elif view >= mean:\n",
    "        return 4\n",
    "    elif view < mean:\n",
    "        return 5\n",
    "    return 0"
   ]
  },
  {
   "cell_type": "code",
   "execution_count": 107,
   "metadata": {},
   "outputs": [],
   "source": [
    "target = log_views.apply(lambda x: groupView(x, log_views.mean(), log_views.std()))"
   ]
  },
  {
   "cell_type": "markdown",
   "metadata": {},
   "source": [
    "### Machine Learning"
   ]
  },
  {
   "cell_type": "markdown",
   "metadata": {},
   "source": [
    "#### Random forest regressor"
   ]
  },
  {
   "cell_type": "code",
   "execution_count": 111,
   "metadata": {},
   "outputs": [],
   "source": [
    "# 將資料分為訓練及測試\n",
    "X_train, X_test, y_train, y_test = train_test_split(final_data, views, test_size=0.3, random_state=42)"
   ]
  },
  {
   "cell_type": "code",
   "execution_count": 113,
   "metadata": {},
   "outputs": [
    {
     "name": "stdout",
     "output_type": "stream",
     "text": [
      "Training MAE: 454653.59\n",
      "Test MAE: 692139.24\n",
      "Views mean: 1698297.48\n",
      "Views std: 2498479.37\n"
     ]
    }
   ],
   "source": [
    "rf = RandomForestRegressor(criterion='mae',max_depth=15, max_features=15, n_estimators=500, min_samples_leaf=2, min_samples_split=2,\n",
    "                          random_state=42)\n",
    "rf.fit(X_train, y_train)\n",
    "y_pred = rf.predict(X_train)\n",
    "y_test_pred = rf.predict(X_test)\n",
    "print('Training MAE: {:0.2f}'.format(metrics.mean_absolute_error(y_train, y_pred)))\n",
    "print('Test MAE: {:0.2f}'.format(metrics.mean_absolute_error(y_test, y_test_pred)))\n",
    "print('Views mean: {:0.2f}'.format(views.mean()))\n",
    "print('Views std: {:0.2f}'.format(views.std()))"
   ]
  },
  {
   "cell_type": "markdown",
   "metadata": {},
   "source": [
    "###  VotingClassifier: Different Feature Sets"
   ]
  },
  {
   "cell_type": "code",
   "execution_count": 115,
   "metadata": {},
   "outputs": [],
   "source": [
    "# custom transformer for sklearn pipeline\n",
    "class ColumnExtractor(TransformerMixin, BaseEstimator):\n",
    "    def __init__(self, cols):\n",
    "        self.cols = cols\n",
    "\n",
    "    def transform(self, X):\n",
    "        col_list = []\n",
    "        for c in self.cols:\n",
    "            col_list.append(X[:, c:c+1])\n",
    "        return np.concatenate(col_list, axis=1)\n",
    "\n",
    "    def fit(self, X, y=None):\n",
    "        return self"
   ]
  },
  {
   "cell_type": "code",
   "execution_count": 116,
   "metadata": {},
   "outputs": [],
   "source": [
    "X_train, X_test, y_train, y_test = train_test_split(final_data, target, test_size=0.3, random_state=42)"
   ]
  },
  {
   "cell_type": "code",
   "execution_count": 120,
   "metadata": {},
   "outputs": [
    {
     "data": {
      "text/plain": [
       "0.5947712418300654"
      ]
     },
     "execution_count": 120,
     "metadata": {},
     "output_type": "execute_result"
    }
   ],
   "source": [
    "# fit clf1 with df1\n",
    "pipe1 = Pipeline([\n",
    "    ('col_extract', ColumnExtractor( cols=range(0,3) )), # selecting features 0 to 3 (df1) to be used with LR (clf1)\n",
    "    ('clf', SVC(kernel='poly', probability=True, random_state=42))\n",
    "    ])\n",
    "pipe1.fit(X_train, y_train) # sanity check\n",
    "pipe1.score(X_test, y_test) # sanity check"
   ]
  },
  {
   "cell_type": "code",
   "execution_count": 134,
   "metadata": {},
   "outputs": [
    {
     "data": {
      "text/plain": [
       "0.5699346405228758"
      ]
     },
     "execution_count": 134,
     "metadata": {},
     "output_type": "execute_result"
    }
   ],
   "source": [
    "# fit clf2 with df2\n",
    "pipe2 = Pipeline([\n",
    "    ('col_extract', ColumnExtractor( cols=range(4,18) )), # selecting features 4 to 25 (df2) to be used with SVC (clf2)\n",
    "    ('clf', SVC(kernel='poly', probability=True, random_state=42))\n",
    "    ])\n",
    "pipe2.fit(X_train, y_train) # sanity check\n",
    "pipe2.score(X_test, y_test) # sanity check"
   ]
  },
  {
   "cell_type": "code",
   "execution_count": 135,
   "metadata": {},
   "outputs": [
    {
     "data": {
      "text/plain": [
       "0.5699346405228758"
      ]
     },
     "execution_count": 135,
     "metadata": {},
     "output_type": "execute_result"
    }
   ],
   "source": [
    "# fit clf3 with df3\n",
    "pipe3 = Pipeline([\n",
    "    ('col_extract', ColumnExtractor( cols=range(19,25) )), # selecting features 4 to 25 (df2) to be used with SVC (clf2)\n",
    "    ('clf', SVC(kernel='poly', probability=True, random_state=42))\n",
    "    ])\n",
    "pipe3.fit(X_train, y_train) # sanity check\n",
    "pipe3.score(X_test, y_test) # sanity check"
   ]
  },
  {
   "cell_type": "code",
   "execution_count": 162,
   "metadata": {},
   "outputs": [
    {
     "data": {
      "text/plain": [
       "0.5686274509803921"
      ]
     },
     "execution_count": 162,
     "metadata": {},
     "output_type": "execute_result"
    }
   ],
   "source": [
    "vc = VotingClassifier(estimators=[('df1-clf1', pipe1), ('df2-clf2', pipe2), ('df3-clf3', pipe3)], voting='soft', weights= [1, 1, 1])\n",
    "vc.fit(X_train, y_train)\n",
    "vc.score(X_test, y_test)"
   ]
  },
  {
   "cell_type": "code",
   "execution_count": 157,
   "metadata": {},
   "outputs": [
    {
     "data": {
      "text/plain": [
       "array([[  0,   0,   0,   1,   6],\n",
       "       [  0,   0,   0,   2,  19],\n",
       "       [  0,   0,   0,   3,  59],\n",
       "       [  0,   0,   0,   1, 238],\n",
       "       [  0,   0,   0,   2, 434]], dtype=int64)"
      ]
     },
     "execution_count": 157,
     "metadata": {},
     "output_type": "execute_result"
    }
   ],
   "source": [
    "confusion_matrix(y_test.values, vc.predict(X_test))"
   ]
  }
 ],
 "metadata": {
  "kernelspec": {
   "display_name": "Python 3",
   "language": "python",
   "name": "python3"
  },
  "language_info": {
   "codemirror_mode": {
    "name": "ipython",
    "version": 3
   },
   "file_extension": ".py",
   "mimetype": "text/x-python",
   "name": "python",
   "nbconvert_exporter": "python",
   "pygments_lexer": "ipython3",
   "version": "3.7.4"
  }
 },
 "nbformat": 4,
 "nbformat_minor": 2
}
